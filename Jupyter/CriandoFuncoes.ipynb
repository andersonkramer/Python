{
 "cells": [
  {
   "cell_type": "code",
   "execution_count": 2,
   "metadata": {},
   "outputs": [],
   "source": [
    "#Aula criando funções\n",
    "\n",
    "def parabens():\n",
    "    print(' Parabéns pra você\\n Nessa data querida\\n Muitas felicidades\\n Muitos anos de vida\\n')"
   ]
  },
  {
   "cell_type": "code",
   "execution_count": 3,
   "metadata": {},
   "outputs": [
    {
     "name": "stdout",
     "output_type": "stream",
     "text": [
      " Parabéns pra você\n",
      " Nessa data querida\n",
      " Muitas felicidades\n",
      " Muitos anos de vida\n",
      "\n"
     ]
    }
   ],
   "source": [
    "#Rodando a função\n",
    "\n",
    "parabens()"
   ]
  },
  {
   "cell_type": "code",
   "execution_count": 1,
   "metadata": {},
   "outputs": [],
   "source": [
    "#funcao para ver se tem letra U na frase\n",
    "\n",
    "def temletrau():\n",
    "    frase = input('Digite uma frase: ')\n",
    "    if 'u' in frase:\n",
    "        print('Tem letra U')\n",
    "    else:\n",
    "        print('Não tem letra U')"
   ]
  },
  {
   "cell_type": "code",
   "execution_count": 2,
   "metadata": {},
   "outputs": [
    {
     "name": "stdout",
     "output_type": "stream",
     "text": [
      "Digite uma frase: ou\n",
      "Tem letra U\n"
     ]
    }
   ],
   "source": [
    "temletrau()"
   ]
  },
  {
   "cell_type": "code",
   "execution_count": 3,
   "metadata": {},
   "outputs": [],
   "source": [
    "def somaquadrados(a,b):\n",
    "    somaQ = a**2 + b**2\n",
    "    print('A soma dos quadrados = {}'.format(somaQ))\n",
    "    return somaQ"
   ]
  },
  {
   "cell_type": "code",
   "execution_count": 4,
   "metadata": {},
   "outputs": [
    {
     "name": "stdout",
     "output_type": "stream",
     "text": [
      "A soma dos quadrados = 13\n"
     ]
    },
    {
     "data": {
      "text/plain": [
       "13"
      ]
     },
     "execution_count": 4,
     "metadata": {},
     "output_type": "execute_result"
    }
   ],
   "source": [
    "somaquadrados(2,3)"
   ]
  },
  {
   "cell_type": "code",
   "execution_count": null,
   "metadata": {},
   "outputs": [],
   "source": []
  }
 ],
 "metadata": {
  "kernelspec": {
   "display_name": "Python 3",
   "language": "python",
   "name": "python3"
  },
  "language_info": {
   "codemirror_mode": {
    "name": "ipython",
    "version": 3
   },
   "file_extension": ".py",
   "mimetype": "text/x-python",
   "name": "python",
   "nbconvert_exporter": "python",
   "pygments_lexer": "ipython3",
   "version": "3.7.6"
  }
 },
 "nbformat": 4,
 "nbformat_minor": 4
}
