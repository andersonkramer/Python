{
 "cells": [
  {
   "cell_type": "code",
   "execution_count": 1,
   "metadata": {},
   "outputs": [
    {
     "data": {
      "text/plain": [
       "list"
      ]
     },
     "execution_count": 1,
     "metadata": {},
     "output_type": "execute_result"
    }
   ],
   "source": [
    "#Aula de listas em Python\n",
    "\n",
    "#usa se colchetes para dizer que a variavel é uma lista\n",
    "lista1 = [1, 2, 3]\n",
    "\n",
    "type(lista1)"
   ]
  },
  {
   "cell_type": "code",
   "execution_count": 6,
   "metadata": {},
   "outputs": [],
   "source": [
    "#Outro tipo de lista\n",
    "lista2 = [[1, 2, 3], [4, 5, 6], [7, 8, 9]]"
   ]
  },
  {
   "cell_type": "code",
   "execution_count": 9,
   "metadata": {},
   "outputs": [
    {
     "data": {
      "text/plain": [
       "1"
      ]
     },
     "execution_count": 9,
     "metadata": {},
     "output_type": "execute_result"
    }
   ],
   "source": [
    "#Resgatar elemento de uma lista, dar o comando da lista e colocar o indice do elemento, nesse exemplo indice 0\n",
    "lista1 [0]"
   ]
  },
  {
   "cell_type": "code",
   "execution_count": 12,
   "metadata": {},
   "outputs": [
    {
     "data": {
      "text/plain": [
       "2"
      ]
     },
     "execution_count": 12,
     "metadata": {},
     "output_type": "execute_result"
    }
   ],
   "source": [
    "#agora com a lista2 e filtrando o valor dentro de um outro indice nesse exemplo indice principal 0 secundario 1\n",
    "lista2[0][1]"
   ]
  },
  {
   "cell_type": "code",
   "execution_count": 25,
   "metadata": {},
   "outputs": [
    {
     "name": "stdout",
     "output_type": "stream",
     "text": [
      "A cidade escolhida é Belo Horizonte\n"
     ]
    }
   ],
   "source": [
    "#Exemplos com listas sorteando nomes de cidades\n",
    "import random\n",
    "cidade = ['Sao Paulo', 'Rio de Janeiro', 'Belo Horizonte', 'Porto Alegre']\n",
    "escolhida = random.choice(cidade)\n",
    "print('A cidade escolhida é', escolhida)"
   ]
  },
  {
   "cell_type": "code",
   "execution_count": 26,
   "metadata": {},
   "outputs": [],
   "source": [
    "#usando o comando append ao objeto 'a' para inserir o numero 15 ao final da lista 'a'\n",
    "a = [1, 2, 3]\n",
    "a.append(15)"
   ]
  },
  {
   "cell_type": "code",
   "execution_count": 28,
   "metadata": {},
   "outputs": [
    {
     "name": "stdout",
     "output_type": "stream",
     "text": [
      "[1, 2, 3, 15, 7, 8, 9]\n"
     ]
    }
   ],
   "source": [
    "#colocando todo conteudo de 'b' dentro da lista 'a'\n",
    "b = [7, 8, 9]\n",
    "\n",
    "for item in b:\n",
    "    a.append(item)\n",
    "print(a)"
   ]
  },
  {
   "cell_type": "code",
   "execution_count": 6,
   "metadata": {},
   "outputs": [
    {
     "name": "stdout",
     "output_type": "stream",
     "text": [
      "[2.0, 45.0, 65.0, 32.0, 33.0]\n"
     ]
    }
   ],
   "source": [
    "#Exercicio\n",
    "#Transformar uma lista de números inteiros em float\n",
    "lista = [2, 45, 65, 32, 33]\n",
    "\n",
    "novalista = []\n",
    "\n",
    "for i in lista:\n",
    "    novalista.append(float(i))\n",
    "    \n",
    "print(novalista)"
   ]
  }
 ],
 "metadata": {
  "kernelspec": {
   "display_name": "Python 3",
   "language": "python",
   "name": "python3"
  },
  "language_info": {
   "codemirror_mode": {
    "name": "ipython",
    "version": 3
   },
   "file_extension": ".py",
   "mimetype": "text/x-python",
   "name": "python",
   "nbconvert_exporter": "python",
   "pygments_lexer": "ipython3",
   "version": "3.7.6"
  }
 },
 "nbformat": 4,
 "nbformat_minor": 4
}
